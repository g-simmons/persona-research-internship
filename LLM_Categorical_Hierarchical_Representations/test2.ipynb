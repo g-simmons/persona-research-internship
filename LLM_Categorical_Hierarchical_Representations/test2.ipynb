{
 "cells": [
  {
   "cell_type": "code",
   "execution_count": 1,
   "metadata": {},
   "outputs": [
    {
     "name": "stderr",
     "output_type": "stream",
     "text": [
      "[nltk_data] Downloading package wordnet to /home/raymond/nltk_data...\n",
      "[nltk_data]   Package wordnet is already up-to-date!\n"
     ]
    },
    {
     "name": "stdout",
     "output_type": "stream",
     "text": [
      "The token has not been saved to the git credentials helper. Pass `add_to_git_credential=True` in this function directly or `--add-to-git-credential` if using via `huggingface-cli` if you want to set the git credential as well.\n",
      "Token is valid (permission: read).\n",
      "Your token has been saved to /home/raymond/.cache/huggingface/token\n",
      "Login successful\n"
     ]
    }
   ],
   "source": [
    "#!/usr/bin/env python3\n",
    "\n",
    "\n",
    "import torch\n",
    "from ontology_scores import *\n",
    "\n",
    "parameter_model = \"1.4B\"\n",
    "step = \"step143000\"\n",
    "\n",
    "# save_wordnet_hypernym(parameter_model, step, True)\n",
    "# mats = get_mats(parameter_model, step, True)\n",
    "\n",
    "# torch.save(mats[0], f\"test1.pt\")\n",
    "# torch.save(mats[1], f\"test2.pt\")\n",
    "# torch.save(mats[2], f\"test3.pt\")"
   ]
  },
  {
   "cell_type": "code",
   "execution_count": 2,
   "metadata": {},
   "outputs": [
    {
     "name": "stdout",
     "output_type": "stream",
     "text": [
      "nan\n",
      "nan\n",
      "False\n",
      "False\n"
     ]
    }
   ],
   "source": [
    "adj = torch.load(f\"test1.pt\")\n",
    "cos = torch.load(f\"test2.pt\")\n",
    "diff = torch.load(f\"test3.pt\")\n",
    "\n",
    "cat_embeddings = torch.load(\"category_embeddings.pt\")       # for work.n.01, the one with nan\n",
    "cov = torch.load(\"cov.pt\")\n",
    "\n",
    "\n",
    "print(causal_sep_score(adj, cos))\n",
    "print(hierarchy_score(diff))\n",
    "\n",
    "print(True in torch.isnan(cat_embeddings))\n",
    "print(True in torch.isnan(cov))\n",
    "\n",
    "\n"
   ]
  },
  {
   "cell_type": "code",
   "execution_count": 3,
   "metadata": {},
   "outputs": [],
   "source": [
    "cat_embeddings_list = []\n",
    "for row in cat_embeddings:\n",
    "    cat_embeddings_list.append([thing.item() for thing in row])\n",
    "\n",
    "cov_list = []\n",
    "for row in cov:\n",
    "    cov_list.append([thing.item() for thing in row])"
   ]
  },
  {
   "cell_type": "code",
   "execution_count": 4,
   "metadata": {},
   "outputs": [],
   "source": [
    "for i in range(len(cov)):\n",
    "    for j in range(i+1, len(cov)):\n",
    "        norm = torch.norm(cov[i] - cov[j]).item()\n",
    "        if norm < 0.3:\n",
    "            print(i, j, norm)"
   ]
  },
  {
   "cell_type": "code",
   "execution_count": 5,
   "metadata": {},
   "outputs": [
    {
     "name": "stdout",
     "output_type": "stream",
     "text": [
      "tensor(2048)\n",
      "tensor(2048)\n"
     ]
    }
   ],
   "source": [
    "print(torch.linalg.matrix_rank(cat_embeddings))\n",
    "print(torch.linalg.matrix_rank(cov))"
   ]
  },
  {
   "cell_type": "code",
   "execution_count": 6,
   "metadata": {},
   "outputs": [
    {
     "name": "stdout",
     "output_type": "stream",
     "text": [
      "torch.Size([12933, 2048])\n",
      "torch.Size([2048, 2048])\n"
     ]
    }
   ],
   "source": [
    "print(cat_embeddings.shape)\n",
    "print(cov.shape)"
   ]
  },
  {
   "cell_type": "code",
   "execution_count": 10,
   "metadata": {},
   "outputs": [
    {
     "name": "stdout",
     "output_type": "stream",
     "text": [
      "tensor([[ 2.9616, -0.0383, -0.0463,  ..., -0.0529, -0.0385,  0.0750],\n",
      "        [-0.0383,  3.1854,  0.0676,  ...,  0.0453,  0.1216,  0.1139],\n",
      "        [-0.0463,  0.0676,  3.0754,  ...,  0.0179, -0.0380, -0.0207],\n",
      "        ...,\n",
      "        [-0.0529,  0.0453,  0.0179,  ...,  3.2051, -0.0545, -0.0184],\n",
      "        [-0.0385,  0.1216, -0.0380,  ..., -0.0545,  3.1916, -0.0605],\n",
      "        [ 0.0750,  0.1139, -0.0207,  ..., -0.0184, -0.0605,  3.0632]])\n",
      "torch.Size([2048, 2048])\n",
      "tensor([[ 2.9616, -0.0383, -0.0463,  ..., -0.0529, -0.0385,  0.0750],\n",
      "        [-0.0383,  3.1854,  0.0676,  ...,  0.0453,  0.1216,  0.1139],\n",
      "        [-0.0463,  0.0676,  3.0754,  ...,  0.0179, -0.0380, -0.0207],\n",
      "        ...,\n",
      "        [-0.0529,  0.0453,  0.0179,  ...,  3.2051, -0.0545, -0.0184],\n",
      "        [-0.0385,  0.1216, -0.0380,  ..., -0.0545,  3.1916, -0.0605],\n",
      "        [ 0.0750,  0.1139, -0.0207,  ..., -0.0184, -0.0605,  3.0632]])\n",
      "tensor([[ 2.9616, -0.0383, -0.0463,  ..., -0.0529, -0.0385,  0.0750],\n",
      "        [-0.0383,  3.1854,  0.0676,  ...,  0.0453,  0.1216,  0.1139],\n",
      "        [-0.0463,  0.0676,  3.0754,  ...,  0.0179, -0.0380, -0.0207],\n",
      "        ...,\n",
      "        [-0.0529,  0.0453,  0.0179,  ...,  3.2051, -0.0545, -0.0184],\n",
      "        [-0.0385,  0.1216, -0.0380,  ..., -0.0545,  3.1916, -0.0605],\n",
      "        [ 0.0750,  0.1139, -0.0207,  ..., -0.0184, -0.0605,  3.0632]])\n"
     ]
    }
   ],
   "source": [
    "pseudo_inv = torch.linalg.pinv(cov)\n",
    "print(pseudo_inv)\n",
    "print(pseudo_inv.shape)\n",
    "\n",
    "import numpy as np\n",
    "pseudo_inv = np.linalg.pinv(cov)\n",
    "pseudo_inv = torch.tensor(pseudo_inv)\n",
    "print(pseudo_inv)\n",
    "\n",
    "\n",
    "from scipy import linalg\n",
    "pseudo_inv = linalg.pinv(cov)\n",
    "pseudo_inv = torch.tensor(pseudo_inv)\n",
    "print(pseudo_inv)"
   ]
  }
 ],
 "metadata": {
  "kernelspec": {
   "display_name": "base",
   "language": "python",
   "name": "python3"
  },
  "language_info": {
   "codemirror_mode": {
    "name": "ipython",
    "version": 3
   },
   "file_extension": ".py",
   "mimetype": "text/x-python",
   "name": "python",
   "nbconvert_exporter": "python",
   "pygments_lexer": "ipython3",
   "version": "3.12.2"
  }
 },
 "nbformat": 4,
 "nbformat_minor": 2
}
